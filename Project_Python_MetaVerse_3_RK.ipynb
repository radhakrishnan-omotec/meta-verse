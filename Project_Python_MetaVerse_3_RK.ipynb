{
  "nbformat": 4,
  "nbformat_minor": 0,
  "metadata": {
    "colab": {
      "provenance": [],
      "include_colab_link": true
    },
    "kernelspec": {
      "name": "python3",
      "display_name": "Python 3"
    },
    "language_info": {
      "name": "python"
    }
  },
  "cells": [
    {
      "cell_type": "markdown",
      "metadata": {
        "id": "view-in-github",
        "colab_type": "text"
      },
      "source": [
        "<a href=\"https://colab.research.google.com/github/radhakrishnan-omotec/meta-verse/blob/main/Project_Python_MetaVerse_3_RK.ipynb\" target=\"_parent\"><img src=\"https://colab.research.google.com/assets/colab-badge.svg\" alt=\"Open In Colab\"/></a>"
      ]
    },
    {
      "cell_type": "markdown",
      "source": [
        "# PYTHON PROJECT STEPS:"
      ],
      "metadata": {
        "id": "YlgztvhouuyC"
      }
    },
    {
      "cell_type": "markdown",
      "source": [
        "In this research project that delves into the financial impact of the emerging concept of virtual metaverse on the tourism industry. With the increasing prominence of virtual metaverse platforms, it becomes crucial to assess its potential negative effects on the tourism sector."
      ],
      "metadata": {
        "id": "6QedKK_zTPg1"
      }
    },
    {
      "cell_type": "markdown",
      "source": [
        "In this implementation, we first collect data from various sources. We merge the datasets based on common variables to create a comprehensive dataset."
      ],
      "metadata": {
        "id": "5EguuuPruxP7"
      }
    },
    {
      "cell_type": "markdown",
      "source": [
        "**INITIAL STEP :  Import Libraries**"
      ],
      "metadata": {
        "id": "g_D8-DpHu3Ly"
      }
    },
    {
      "cell_type": "code",
      "source": [
        "import pandas as pd\n",
        "import numpy as np\n",
        "from sklearn.model_selection import train_test_split\n",
        "from sklearn.ensemble import RandomForestClassifier\n",
        "from sklearn.metrics import accuracy_score\n"
      ],
      "metadata": {
        "id": "mheC_D7kvCiV"
      },
      "execution_count": null,
      "outputs": []
    },
    {
      "cell_type": "markdown",
      "source": [
        "# Step 1: Data Collection"
      ],
      "metadata": {
        "id": "1PjBy88vvD3H"
      }
    },
    {
      "cell_type": "code",
      "source": [
        "# Read data from various sources and create a combined dataset\n"
      ],
      "metadata": {
        "id": "jZ-cZivrvIu0"
      },
      "execution_count": null,
      "outputs": []
    },
    {
      "cell_type": "markdown",
      "source": [
        "# Merge datasets based on common variables"
      ],
      "metadata": {
        "id": "g8_4dJ1mvUwJ"
      }
    },
    {
      "cell_type": "code",
      "source": [
        "# Merge datasets based on common variables\n"
      ],
      "metadata": {
        "id": "XaEm6b03vNsa"
      },
      "execution_count": null,
      "outputs": []
    },
    {
      "cell_type": "markdown",
      "source": [
        "# Step 2: Data Preprocessing"
      ],
      "metadata": {
        "id": "qDqCxuRvvY2M"
      }
    },
    {
      "cell_type": "code",
      "source": [
        "# Perform any necessary data preprocessing steps (e.g., handling missing values, encoding categorical variables)"
      ],
      "metadata": {
        "id": "BUbAlLSgvfes"
      },
      "execution_count": null,
      "outputs": []
    },
    {
      "cell_type": "markdown",
      "source": [
        "# Step 3: Feature Selection and Splitting"
      ],
      "metadata": {
        "id": "yxH2uzZPvltg"
      }
    },
    {
      "cell_type": "code",
      "source": [
        "# Select relevant features for the model\n",
        "features = ['chatGPT', 'artificial-intelligence']\n",
        "\n",
        "X = dataset[features]\n",
        "y = dataset['meta-verse']\n",
        "\n",
        "# Split the data into training and testing sets\n",
        "X_train, X_test, y_train, y_test = train_test_split(X, y, test_size=0.2, random_state=42)\n"
      ],
      "metadata": {
        "id": "8nDewO-FvjG9"
      },
      "execution_count": null,
      "outputs": []
    },
    {
      "cell_type": "markdown",
      "source": [
        "# Step 4: Model Training"
      ],
      "metadata": {
        "id": "KlRQXFsFvqR2"
      }
    },
    {
      "cell_type": "code",
      "source": [
        "# Train an AI/ML model on the training data\n",
        "model = RandomForestClassifier()\n",
        "model.fit(X_train, y_train)\n"
      ],
      "metadata": {
        "id": "FkLTIg7Jvw2y"
      },
      "execution_count": null,
      "outputs": []
    },
    {
      "cell_type": "markdown",
      "source": [
        "# Step 5: Model Evaluation"
      ],
      "metadata": {
        "id": "MWCnNQAGv1w7"
      }
    },
    {
      "cell_type": "code",
      "source": [
        "# Evaluate the model's performance on the testing data\n",
        "y_pred = model.predict(X_test)\n",
        "accuracy = accuracy_score(y_test, y_pred)\n",
        "print(\"Model Accuracy:\", accuracy)\n"
      ],
      "metadata": {
        "id": "q1VIeck0vzjc"
      },
      "execution_count": null,
      "outputs": []
    },
    {
      "cell_type": "markdown",
      "source": [
        "# Step 6: Prediction"
      ],
      "metadata": {
        "id": "66NLRzDyv5MD"
      }
    },
    {
      "cell_type": "code",
      "source": [
        "# Use the trained model to make predictions on new data\n",
        "\n"
      ],
      "metadata": {
        "id": "QnX_bb_Rv7mS"
      },
      "execution_count": null,
      "outputs": []
    },
    {
      "cell_type": "markdown",
      "source": [
        "# Step 7: Data Visualization"
      ],
      "metadata": {
        "id": "xavnp874KXxC"
      }
    },
    {
      "cell_type": "markdown",
      "source": [
        "# Step 8: Results & Metrics"
      ],
      "metadata": {
        "id": "zja65QR0Kc1G"
      }
    },
    {
      "cell_type": "markdown",
      "source": [
        "# GOA Tourism"
      ],
      "metadata": {
        "id": "tIbbx13xwEx6"
      }
    },
    {
      "cell_type": "code",
      "source": [
        "class GoaTourismImpact:\n",
        "    def __init__(self, traditional_revenue, metaverse_revenue):\n",
        "        self.traditional_revenue = traditional_revenue\n",
        "        self.metaverse_revenue = metaverse_revenue\n",
        "\n",
        "    def calculate_annual_revenue_impact(self):\n",
        "        return self.traditional_revenue - self.metaverse_revenue\n",
        "\n",
        "    def analyze_impact_factors(self, popularity, consumer_preferences, technological_advancements, industry_response):\n",
        "        impact_summary = {\n",
        "            \"Popularity of Metaverse Travel\": popularity,\n",
        "            \"Consumer Preferences\": consumer_preferences,\n",
        "            \"Technological Advancements\": technological_advancements,\n",
        "            \"Local Industry Response\": industry_response\n",
        "        }\n",
        "        return impact_summary\n",
        "\n",
        "\n",
        "# Given revenue values for traditional and metaverse travel (in INR)\n",
        "traditional_revenue = 100000\n",
        "metaverse_revenue = 100000\n",
        "\n",
        "# Create an instance of GoaTourismImpact\n",
        "impact_analysis = GoaTourismImpact(traditional_revenue, metaverse_revenue)\n",
        "\n",
        "# Calculate the annual revenue impact\n",
        "annual_revenue_impact = impact_analysis.calculate_annual_revenue_impact()\n",
        "print(\"Annual Revenue Impact:\", annual_revenue_impact, \"INR\")\n",
        "\n",
        "# Analyze impact factors\n",
        "popularity = \"High\"  # Example: Metaverse travel gains popularity\n",
        "consumer_preferences = \"Positive\"  # Example: Travelers prefer immersive metaverse experiences\n",
        "technological_advancements = \"Significant\"  # Example: Advanced virtual reality technologies\n",
        "industry_response = \"Adapting\"  # Example: Local tourism industry invests in digital experiences\n",
        "\n",
        "impact_factors_summary = impact_analysis.analyze_impact_factors(\n",
        "    popularity, consumer_preferences, technological_advancements, industry_response\n",
        ")\n",
        "\n",
        "# Display impact factors analysis\n",
        "print(\"\\nImpact Factors Analysis:\")\n",
        "for factor, description in impact_factors_summary.items():\n",
        "    print(f\"- {factor}: {description}\")\n"
      ],
      "metadata": {
        "id": "pWBM3msJvAJ0"
      },
      "execution_count": null,
      "outputs": []
    },
    {
      "cell_type": "markdown",
      "source": [
        "# GOA Tourism - *dataset*"
      ],
      "metadata": {
        "id": "gQKL1C8pv-ZP"
      }
    },
    {
      "cell_type": "code",
      "source": [
        "class GoaTourismImpact:\n",
        "    def __init__(self, traditional_revenue, metaverse_revenue):\n",
        "        self.traditional_revenue = traditional_revenue\n",
        "        self.metaverse_revenue = metaverse_revenue\n",
        "\n",
        "    def calculate_annual_revenue_impact(self):\n",
        "        return self.traditional_revenue - self.metaverse_revenue\n",
        "\n",
        "    def analyze_impact_factors(self, popularity, consumer_preferences, technological_advancements, industry_response):\n",
        "        impact_summary = {\n",
        "            \"Popularity of Metaverse Travel\": popularity,\n",
        "            \"Consumer Preferences\": consumer_preferences,\n",
        "            \"Technological Advancements\": technological_advancements,\n",
        "            \"Local Industry Response\": industry_response\n",
        "        }\n",
        "        return impact_summary\n",
        "\n",
        "\n",
        "# Example dataset (fictional data)\n",
        "traditional_revenue = 1000000  # Example: Traditional tourism revenue in INR\n",
        "metaverse_revenue = 800000  # Example: Metaverse tourism revenue in INR\n",
        "\n",
        "# Create an instance of GoaTourismImpact\n",
        "impact_analysis = GoaTourismImpact(traditional_revenue, metaverse_revenue)\n",
        "\n",
        "# Calculate the annual revenue impact\n",
        "annual_revenue_impact = impact_analysis.calculate_annual_revenue_impact()\n",
        "print(\"Annual Revenue Impact:\", annual_revenue_impact, \"INR\")\n",
        "\n",
        "# Analyze impact factors\n",
        "popularity = \"High\"  # Example: Metaverse travel gains popularity\n",
        "consumer_preferences = \"Positive\"  # Example: Travelers prefer immersive metaverse experiences\n",
        "technological_advancements = \"Significant\"  # Example: Advanced virtual reality technologies\n",
        "industry_response = \"Adapting\"  # Example: Local tourism industry invests in digital experiences\n",
        "\n",
        "impact_factors_summary = impact_analysis.analyze_impact_factors(\n",
        "    popularity, consumer_preferences, technological_advancements, industry_response\n",
        ")\n",
        "\n",
        "# Display impact factors analysis\n",
        "print(\"\\nImpact Factors Analysis:\")\n",
        "for factor, description in impact_factors_summary.items():\n",
        "    print(f\"- {factor}: {description}\")\n"
      ],
      "metadata": {
        "id": "E1MafhiWv9zz"
      },
      "execution_count": null,
      "outputs": []
    },
    {
      "cell_type": "markdown",
      "source": [
        "<hr>"
      ],
      "metadata": {
        "id": "u583Lw6zv-Vb"
      }
    }
  ]
}